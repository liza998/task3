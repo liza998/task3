{
 "cells": [
  {
   "cell_type": "code",
   "execution_count": null,
   "id": "f76da416",
   "metadata": {},
   "outputs": [],
   "source": [
    "def string1(str1):\n",
    "    #first \n",
    "    result = str1[0]\n",
    "    l = len(str1)\n",
    "    mid = int(l/2)\n",
    "    #middle\n",
    "    result = result + str1[mid]\n",
    "    #last\n",
    "    result = result + str1[l-1]\n",
    "    return result\n",
    "\n",
    "\n",
    "\n",
    "str1= input(\"enter the string\")\n",
    "\n",
    "r = string1(str1)\n",
    "print(r)\n",
    "\n",
    "\n",
    "\n",
    "\n"
   ]
  },
  {
   "cell_type": "code",
   "execution_count": 25,
   "id": "9e0ac467",
   "metadata": {},
   "outputs": [
    {
     "name": "stdout",
     "output_type": "stream",
     "text": [
      "enter the stringsACBaaf\n",
      "hello\n"
     ]
    }
   ],
   "source": [
    "str2 = input(\"enter the strings\")\n",
    "lower=[]\n",
    "upper=[]\n",
    "\n",
    "for i in str1:\n",
    "    if i.islower():\n",
    "        lower.append(i)\n",
    "        \n",
    "    else:\n",
    "        upper.append(i)\n",
    "        \n",
    "    \n",
    "    \n",
    "str3 = ''.join(lower + upper)\n",
    "\n",
    "print(str3)\n",
    "\n",
    "\n",
    "        \n",
    "        "
   ]
  },
  {
   "cell_type": "code",
   "execution_count": 18,
   "id": "14994343",
   "metadata": {},
   "outputs": [
    {
     "name": "stdout",
     "output_type": "stream",
     "text": [
      "enter the stringP@#yn26at^&i5ve\n",
      "number of alphabet 8\n",
      "number of digits 3\n",
      "number of symbol 4\n"
     ]
    }
   ],
   "source": [
    "str1 = input(\"enter the string\")\n",
    "a=0\n",
    "d=0\n",
    "s=0\n",
    "\n",
    "for i in str1:\n",
    "    if i.isalpha():\n",
    "        a= a+1\n",
    "        \n",
    "    elif i.isdigit():\n",
    "        d= d+1\n",
    "    else:\n",
    "        s = s+1\n",
    "        \n",
    "\n",
    "print(\"number of alphabet\", a)\n",
    "print(\"number of digits\", d)\n",
    "print(\"number of symbol\", s)"
   ]
  },
  {
   "cell_type": "code",
   "execution_count": null,
   "id": "15e4b9f4",
   "metadata": {},
   "outputs": [],
   "source": [
    "str1 = input(\"enter\")\n",
    "str2 = reversed(str1)\n",
    "print(''.join(str2))\n",
    "\n",
    "\n"
   ]
  },
  {
   "cell_type": "code",
   "execution_count": null,
   "id": "ae9416c0",
   "metadata": {},
   "outputs": [],
   "source": [
    "## another process to reverse string\n",
    "def reverse(str1):\n",
    "    r =\" \"\n",
    "    for i in str1:\n",
    "        r = i + r\n",
    "print(\"reverse string is\", r)\n",
    "\n",
    "\n",
    "str1 = input(\"enter the string\")\n",
    "print(\"string is\", str1)\n",
    "reverse(str1)\n",
    "        "
   ]
  },
  {
   "cell_type": "code",
   "execution_count": null,
   "id": "2105810f",
   "metadata": {},
   "outputs": [],
   "source": []
  }
 ],
 "metadata": {
  "kernelspec": {
   "display_name": "Python 3 (ipykernel)",
   "language": "python",
   "name": "python3"
  },
  "language_info": {
   "codemirror_mode": {
    "name": "ipython",
    "version": 3
   },
   "file_extension": ".py",
   "mimetype": "text/x-python",
   "name": "python",
   "nbconvert_exporter": "python",
   "pygments_lexer": "ipython3",
   "version": "3.10.8"
  }
 },
 "nbformat": 4,
 "nbformat_minor": 5
}
